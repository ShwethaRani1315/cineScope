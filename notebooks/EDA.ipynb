{
 "cells": [
  {
   "cell_type": "code",
   "execution_count": 1,
   "id": "d5adf942-e184-4de4-aaa8-d47c6d461b06",
   "metadata": {},
   "outputs": [
    {
     "name": "stdout",
     "output_type": "stream",
     "text": [
      "                      title              director release_year  runtime  \\\n",
      "0  The Shawshank Redemption        Frank Darabont       (1994)  142 min   \n",
      "1             The Godfather  Francis Ford Coppola       (1972)  175 min   \n",
      "2           The Dark Knight     Christopher Nolan       (2008)  152 min   \n",
      "3          Schindler's List      Steven Spielberg       (1993)  195 min   \n",
      "4              12 Angry Men          Sidney Lumet       (1957)   96 min   \n",
      "\n",
      "                       genre  rating  metascore     gross  \n",
      "0                      Drama     9.3         82   $28.34M  \n",
      "1               Crime, Drama     9.2        100  $134.97M  \n",
      "2       Action, Crime, Drama     9.0         84  $534.86M  \n",
      "3  Biography, Drama, History     9.0         95   $96.90M  \n",
      "4               Crime, Drama     9.0         97    $4.36M  \n",
      "Shape = (1000, 8)\n",
      "Basic Info: \n",
      "<class 'pandas.core.frame.DataFrame'>\n",
      "RangeIndex: 1000 entries, 0 to 999\n",
      "Data columns (total 8 columns):\n",
      " #   Column        Non-Null Count  Dtype  \n",
      "---  ------        --------------  -----  \n",
      " 0   title         1000 non-null   object \n",
      " 1   director      1000 non-null   object \n",
      " 2   release_year  1000 non-null   object \n",
      " 3   runtime       1000 non-null   object \n",
      " 4   genre         1000 non-null   object \n",
      " 5   rating        1000 non-null   float64\n",
      " 6   metascore     1000 non-null   int64  \n",
      " 7   gross         1000 non-null   object \n",
      "dtypes: float64(1), int64(1), object(6)\n",
      "memory usage: 62.6+ KB\n",
      "None\n",
      "----------------------------------------\n",
      "                                              review sentiment\n",
      "0  One of the other reviewers has mentioned that ...  positive\n",
      "1  A wonderful little production. <br /><br />The...  positive\n",
      "2  I thought this was a wonderful way to spend ti...  positive\n",
      "3  Basically there's a family where a little boy ...  negative\n",
      "4  Petter Mattei's \"Love in the Time of Money\" is...  positive\n",
      "Shape = (50000, 2)\n",
      "Basic Info: \n",
      "<class 'pandas.core.frame.DataFrame'>\n",
      "RangeIndex: 50000 entries, 0 to 49999\n",
      "Data columns (total 2 columns):\n",
      " #   Column     Non-Null Count  Dtype \n",
      "---  ------     --------------  ----- \n",
      " 0   review     50000 non-null  object\n",
      " 1   sentiment  50000 non-null  object\n",
      "dtypes: object(2)\n",
      "memory usage: 781.4+ KB\n",
      "None\n",
      "----------------------------------------\n"
     ]
    }
   ],
   "source": [
    "import pandas as pd\n",
    "import matplotlib.pyplot as plt\n",
    "import numpy as np\n",
    "\n",
    "#Load the datasets into dataframes\n",
    "movies_df = pd.read_csv(\"E:\\\\AI Portfolio Projects\\\\CineScope\\\\data\\\\Movies.csv\")\n",
    "reviews_df = pd.read_csv(\"E:\\\\AI Portfolio Projects\\\\CineScope\\\\data\\\\Reviews.csv\")\n",
    "\n",
    "#Obtain basic details of the dataframes\n",
    "\n",
    "#Movies Dataset\n",
    "print(movies_df.head())\n",
    "print(f\"Shape = {movies_df.shape}\")\n",
    "print(\"Basic Info: \")\n",
    "print(movies_df.info())\n",
    "print(\"-\" * 40)\n",
    "\n",
    "#Reviews Dataset\n",
    "print(reviews_df.head())\n",
    "print(f\"Shape = {reviews_df.shape}\")\n",
    "print(\"Basic Info: \")\n",
    "print(reviews_df.info())\n",
    "print(\"-\" * 40)"
   ]
  },
  {
   "cell_type": "code",
   "execution_count": null,
   "id": "a4ab29bf",
   "metadata": {},
   "outputs": [],
   "source": []
  },
  {
   "cell_type": "code",
   "execution_count": null,
   "id": "a9d51d10",
   "metadata": {},
   "outputs": [],
   "source": []
  },
  {
   "cell_type": "code",
   "execution_count": 2,
   "id": "9febedb1",
   "metadata": {},
   "outputs": [
    {
     "name": "stdout",
     "output_type": "stream",
     "text": [
      "MOVIES DATASET\n",
      "---------------\n",
      "The number of empty/null values in each column of the dataset is:\n",
      "title           0\n",
      "director        0\n",
      "release_year    0\n",
      "runtime         0\n",
      "genre           0\n",
      "rating          0\n",
      "metascore       0\n",
      "gross           0\n",
      "dtype: int64\n",
      "The percentage of null values: \n",
      "title           0.0\n",
      "director        0.0\n",
      "release_year    0.0\n",
      "runtime         0.0\n",
      "genre           0.0\n",
      "rating          0.0\n",
      "metascore       0.0\n",
      "gross           0.0\n",
      "dtype: float64\n",
      "----------------------------------------\n",
      "REVIEWS DATASET\n",
      "---------------\n",
      "The number of empty/null values in each column of the dataset is:\n",
      "review       0\n",
      "sentiment    0\n",
      "dtype: int64\n",
      "The percentage of null values: \n",
      "review       0.0\n",
      "sentiment    0.0\n",
      "dtype: float64\n",
      "----------------------------------------\n"
     ]
    }
   ],
   "source": [
    "#Check for null or empty values in each dataframe\n",
    "\n",
    "#Movies Dataset\n",
    "print(\"MOVIES DATASET\")\n",
    "print(\"-\" *15)\n",
    "\n",
    "print(\"The number of empty/null values in each column of the dataset is:\")\n",
    "print(movies_df.isnull().sum())\n",
    "\n",
    "print(f\"The percentage of null values: \\n{movies_df.isnull().mean()}\")\n",
    "print(\"-\" * 40)\n",
    "\n",
    "#Reviews Dataset\n",
    "print(\"REVIEWS DATASET\")\n",
    "print(\"-\" * 15)\n",
    "\n",
    "print(\"The number of empty/null values in each column of the dataset is:\")\n",
    "print(reviews_df.isnull().sum())\n",
    "\n",
    "print(f\"The percentage of null values: \\n{reviews_df.isnull().mean()}\")\n",
    "print(\"-\" * 40)\n"
   ]
  },
  {
   "cell_type": "code",
   "execution_count": 3,
   "id": "8405f234",
   "metadata": {},
   "outputs": [
    {
     "name": "stdout",
     "output_type": "stream",
     "text": [
      "title            object\n",
      "director         object\n",
      "release_year     object\n",
      "runtime          object\n",
      "genre            object\n",
      "rating          float64\n",
      "metascore         int64\n",
      "gross            object\n",
      "dtype: object\n",
      "                      title              director  release_year  runtime  \\\n",
      "0  The Shawshank Redemption        Frank Darabont          1994      142   \n",
      "1             The Godfather  Francis Ford Coppola          1972      175   \n",
      "2           The Dark Knight     Christopher Nolan          2008      152   \n",
      "3          Schindler's List      Steven Spielberg          1993      195   \n",
      "4              12 Angry Men          Sidney Lumet          1957       96   \n",
      "\n",
      "                       genre  rating  metascore        gross  \n",
      "0                      Drama     9.3         82   28000000.0  \n",
      "1               Crime, Drama     9.2        100  134000000.0  \n",
      "2       Action, Crime, Drama     9.0         84  534000000.0  \n",
      "3  Biography, Drama, History     9.0         95   96000000.0  \n",
      "4               Crime, Drama     9.0         97    4000000.0  \n",
      "title            object\n",
      "director         object\n",
      "release_year      int64\n",
      "runtime           int64\n",
      "genre            object\n",
      "rating          float64\n",
      "metascore         int64\n",
      "gross           float64\n",
      "dtype: object\n"
     ]
    }
   ],
   "source": [
    "print(movies_df.dtypes)\n",
    "\n",
    "#create a copy of the original dataframe\n",
    "clean_movies = movies_df.copy()\n",
    "\n",
    "#Change the format of release year and convert it to a numeric value\n",
    "clean_movies['release_year'] = movies_df['release_year'].str.strip('()')\n",
    "clean_movies['release_year'] = pd.to_numeric(clean_movies['release_year'], errors='coerce')\n",
    "\n",
    "#Convert float year into the integer datatype\n",
    "clean_movies['release_year'] = clean_movies['release_year'].fillna(0).astype(int)\n",
    "\n",
    "#Remove the 'min' string from the 'runtime' column and change the value to int\n",
    "clean_movies['runtime'] = clean_movies['runtime'].str.strip(' min')\n",
    "clean_movies['runtime'] = pd.to_numeric(clean_movies['runtime'], errors='coerce')\n",
    "\n",
    "#Remove the '$' sign and 'M' signs from 'gross' column. Also, multiply the value by 1 million\n",
    "clean_movies['gross'] = clean_movies['gross'].str.replace('$', '', regex=False)\n",
    "clean_movies['gross'] = clean_movies['gross'].str.replace('M', '', regex=False)\n",
    "clean_movies['gross'] = pd.to_numeric(clean_movies['gross'], errors='coerce').astype(int)\n",
    "clean_movies['gross'] = clean_movies['gross'].replace(0, np.nan)\n",
    "clean_movies['gross'] = clean_movies['gross'] * 1000000\n",
    "\n",
    "#Checking and verifying the structure of data\n",
    "print(clean_movies.head())\n",
    "print(clean_movies.dtypes)"
   ]
  },
  {
   "cell_type": "code",
   "execution_count": 4,
   "id": "5da602b1",
   "metadata": {},
   "outputs": [
    {
     "name": "stdout",
     "output_type": "stream",
     "text": [
      "0                        Drama\n",
      "1                 Crime, Drama\n",
      "2         Action, Crime, Drama\n",
      "3    Biography, Drama, History\n",
      "4                 Crime, Drama\n",
      "Name: genre, dtype: object\n",
      "Unique Combinations: genre\n",
      "Drama                       91\n",
      "Drama, Romance              38\n",
      "Comedy, Drama               34\n",
      "Comedy, Drama, Romance      32\n",
      "Crime, Drama, Mystery       30\n",
      "                            ..\n",
      "Action, Adventure, War       1\n",
      "Animation, Sci-Fi            1\n",
      "Action, Crime, Sci-Fi        1\n",
      "Action, Crime, Mystery       1\n",
      "Fantasy, Mystery, Sci-Fi     1\n",
      "Name: count, Length: 195, dtype: int64\n",
      "Missing values in genre: 0\n"
     ]
    }
   ],
   "source": [
    "#Clean and format 'Genre' column\n",
    "print(clean_movies['genre'].head())\n",
    "\n",
    "#Check for unique combinations and missing values\n",
    "print(f\"Unique Combinations: {clean_movies['genre'].value_counts()}\")\n",
    "print(f\"Missing values in genre: {clean_movies['genre'].isnull().sum()}\")\n",
    "\n",
    "#Clear whitespaces and format the text\n",
    "clean_movies['genre'] = clean_movies['genre'].str.strip().str.title()\n",
    "\n",
    "#Create a new column to store genre values as list\n",
    "clean_movies['genre_list'] = clean_movies['genre'].str.split(', ')"
   ]
  },
  {
   "cell_type": "code",
   "execution_count": 5,
   "id": "8145d9a7",
   "metadata": {},
   "outputs": [
    {
     "name": "stdout",
     "output_type": "stream",
     "text": [
      "count    1000.00000\n",
      "mean        7.96870\n",
      "std         0.27562\n",
      "min         7.60000\n",
      "25%         7.80000\n",
      "50%         7.90000\n",
      "75%         8.10000\n",
      "max         9.30000\n",
      "Name: rating, dtype: float64\n",
      "count    1000.000000\n",
      "mean       66.653000\n",
      "std        30.712829\n",
      "min         0.000000\n",
      "25%        64.750000\n",
      "50%        77.000000\n",
      "75%        86.000000\n",
      "max       100.000000\n",
      "Name: metascore, dtype: float64\n",
      "Axes(0.125,0.11;0.775x0.77)\n",
      "Axes(0.125,0.11;0.775x0.77)\n",
      "Top-rated movies: \n",
      "                      title  rating\n",
      "0  The Shawshank Redemption     9.3\n",
      "1             The Godfather     9.2\n",
      "(2, 9)\n",
      "Low-rated movies: \n",
      "Empty DataFrame\n",
      "Columns: [title, rating]\n",
      "Index: []\n",
      "(0, 9)\n",
      "Movies with high metascore: \n",
      "                                           title  metascore\n",
      "1                                  The Godfather        100\n",
      "3                               Schindler's List         95\n",
      "4                                   12 Angry Men         97\n",
      "5  The Lord of the Rings: The Return of the King         94\n",
      "8                                   Pulp Fiction         95\n",
      "(149, 9)\n",
      "Movies with low metascore: \n",
      "                         title  metascore\n",
      "15                    Jai Bhim          0\n",
      "16                 777 Charlie          0\n",
      "22  Rocketry: The Nambi Effect          0\n",
      "23             Soorarai Pottru          0\n",
      "32           Life Is Beautiful         59\n",
      "(207, 9)\n"
     ]
    },
    {
     "data": {
      "image/png": "[encoded data removed]",
      "text/plain": [
       "<Figure size 640x480 with 1 Axes>"
      ]
     },
     "metadata": {},
     "output_type": "display_data"
    }
   ],
   "source": [
    "#Analyze the values of the ratings and metascore column\n",
    "print(clean_movies['rating'].describe())\n",
    "print(clean_movies['metascore'].describe())\n",
    "\n",
    "print(clean_movies['rating'].hist(bins=20))\n",
    "print(clean_movies['metascore'].hist(bins=20))\n",
    "\n",
    "#Outlier detection - for rating and metascore\n",
    "high_rating = clean_movies[clean_movies['rating'] > 9.0]\n",
    "low_rating = clean_movies[clean_movies['rating'] < 6.0]\n",
    "\n",
    "print(\"Top-rated movies: \")\n",
    "print(high_rating[['title', 'rating']].head())\n",
    "print(high_rating.shape)\n",
    "\n",
    "print(\"Low-rated movies: \")\n",
    "print(low_rating[['title', 'rating']].head())\n",
    "print(low_rating.shape)\n",
    "\n",
    "\n",
    "high_metascore = clean_movies[clean_movies['metascore'] > 90]\n",
    "low_metascore = clean_movies[clean_movies['metascore'] < 60]\n",
    "\n",
    "print(\"Movies with high metascore: \")\n",
    "print(high_metascore[['title', 'metascore']].head())\n",
    "print(high_metascore.shape)\n",
    "\n",
    "print(\"Movies with low metascore: \")\n",
    "print(low_metascore[['title', 'metascore']].head())\n",
    "print(low_metascore.shape)\n",
    "\n",
    "#Flag the missing metascore values for future analysis\n",
    "clean_movies['metascore_missing'] = clean_movies['metascore'].isna()"
   ]
  },
  {
   "cell_type": "code",
   "execution_count": 6,
   "id": "ab9c1d36",
   "metadata": {},
   "outputs": [
    {
     "name": "stdout",
     "output_type": "stream",
     "text": [
      "count    6.920000e+02\n",
      "mean     8.297399e+07\n",
      "std      1.228246e+08\n",
      "min      1.000000e+06\n",
      "25%      7.000000e+06\n",
      "50%      3.500000e+07\n",
      "75%      1.072500e+08\n",
      "max      9.360000e+08\n",
      "Name: gross, dtype: float64\n",
      "count    1000.000000\n",
      "mean      124.136000\n",
      "std        28.690253\n",
      "min        45.000000\n",
      "25%       103.000000\n",
      "50%       120.000000\n",
      "75%       138.000000\n",
      "max       321.000000\n",
      "Name: runtime, dtype: float64\n"
     ]
    },
    {
     "data": {
      "image/png": "[encoded data removed]",
      "text/plain": [
       "<Figure size 600x400 with 1 Axes>"
      ]
     },
     "metadata": {},
     "output_type": "display_data"
    },
    {
     "data": {
      "image/png": "[encoded data removed]",
      "text/plain": [
       "<Figure size 600x400 with 1 Axes>"
      ]
     },
     "metadata": {},
     "output_type": "display_data"
    }
   ],
   "source": [
    "#Analyze and visualize the gross and runtime values of each movie\n",
    "print(clean_movies['gross'].describe())\n",
    "print(clean_movies['runtime'].describe())\n",
    "\n",
    "#Visualize 'Gross'\n",
    "clean_movies['gross'].hist(bins=30, figsize=(6,4))\n",
    "plt.xlabel('Gross (in $)')\n",
    "plt.ylabel('Number of movies')\n",
    "plt.show()\n",
    "\n",
    "#Visualize 'Runtime'\n",
    "clean_movies['runtime'].hist(bins=30, figsize=(6,4))\n",
    "plt.xlabel('Runtime of movies(in min)')\n",
    "plt.ylabel('Number of movies')\n",
    "plt.show()\n",
    "\n"
   ]
  },
  {
   "cell_type": "code",
   "execution_count": 7,
   "id": "b2a44e0d",
   "metadata": {},
   "outputs": [
    {
     "name": "stdout",
     "output_type": "stream",
     "text": [
      "Low Grossing Movies: \n",
      "                             title      gross\n",
      "4                     12 Angry Men  4000000.0\n",
      "13  The Good, the Bad and the Ugly  6000000.0\n",
      "31                     City of God  7000000.0\n",
      "47                      Casablanca  1000000.0\n",
      "48              American History X  6000000.0\n",
      "High Grossing Movies: \n",
      "                       title        gross\n",
      "2            The Dark Knight  534000000.0\n",
      "61         Avengers: Endgame  858000000.0\n",
      "67    Avengers: Infinity War  678000000.0\n",
      "90         Top Gun: Maverick  718000000.0\n",
      "142  Spider-Man: No Way Home  804000000.0\n",
      "Number of missing gross values: 308\n",
      "Number of missing runtime values: 0\n",
      "                      title              director  release_year  runtime  \\\n",
      "0  The Shawshank Redemption        Frank Darabont          1994      142   \n",
      "1             The Godfather  Francis Ford Coppola          1972      175   \n",
      "2           The Dark Knight     Christopher Nolan          2008      152   \n",
      "3          Schindler's List      Steven Spielberg          1993      195   \n",
      "4              12 Angry Men          Sidney Lumet          1957       96   \n",
      "\n",
      "                       genre  rating  metascore        gross  \\\n",
      "0                      Drama     9.3         82   28000000.0   \n",
      "1               Crime, Drama     9.2        100  134000000.0   \n",
      "2       Action, Crime, Drama     9.0         84  534000000.0   \n",
      "3  Biography, Drama, History     9.0         95   96000000.0   \n",
      "4               Crime, Drama     9.0         97    4000000.0   \n",
      "\n",
      "                    genre_list  metascore_missing  isGrossNull  isRuntimeNull  \n",
      "0                      [Drama]              False        False          False  \n",
      "1               [Crime, Drama]              False        False          False  \n",
      "2       [Action, Crime, Drama]              False        False          False  \n",
      "3  [Biography, Drama, History]              False        False          False  \n",
      "4               [Crime, Drama]              False        False          False  \n"
     ]
    }
   ],
   "source": [
    "#Identify gross value outliers\n",
    "low_gross = clean_movies[(clean_movies['gross'] < 10000000) & (clean_movies['gross'].notna())]\n",
    "high_gross = clean_movies[clean_movies['gross'] > 500000000]\n",
    "\n",
    "print(\"Low Grossing Movies: \")\n",
    "print(low_gross[['title', 'gross']].head())\n",
    "\n",
    "print(\"High Grossing Movies: \")\n",
    "print(high_gross[['title', 'gross']].head())\n",
    "\n",
    "#Calculate the number of missing gross and runtime values, and add a flag column to the dataset\n",
    "print(f\"Number of missing gross values: {clean_movies['gross'].isna().sum()}\")\n",
    "clean_movies['isGrossNull'] = clean_movies['gross'].isnull()\n",
    "\n",
    "print(f\"Number of missing runtime values: {clean_movies['runtime'].isnull().sum()}\")\n",
    "clean_movies['isRuntimeNull'] = clean_movies['runtime'].isnull()\n",
    "\n",
    "print(clean_movies.head())"
   ]
  },
  {
   "cell_type": "code",
   "execution_count": 8,
   "id": "f22f834c",
   "metadata": {},
   "outputs": [
    {
     "name": "stdout",
     "output_type": "stream",
     "text": [
      "runtime_category\n",
      "Long      515\n",
      "Medium    419\n",
      "Short      66\n",
      "Name: count, dtype: int64\n"
     ]
    }
   ],
   "source": [
    "#Categorize the runtime values according to length\n",
    "def categorizeRuntime(mins):\n",
    "    if mins < 90:\n",
    "        return \"Short\"\n",
    "    elif 90 <= mins < 120:\n",
    "        return \"Medium\"\n",
    "    else:\n",
    "        return \"Long\"\n",
    "    \n",
    "clean_movies['runtime_category'] = clean_movies['runtime'].apply(categorizeRuntime)\n",
    "print(clean_movies['runtime_category'].value_counts())\n"
   ]
  },
  {
   "cell_type": "code",
   "execution_count": 11,
   "id": "19fa0ef5",
   "metadata": {},
   "outputs": [],
   "source": [
    "clean_movies.to_csv(\"../data/CleanMovies.csv\", index=False)"
   ]
  },
  {
   "cell_type": "code",
   "execution_count": null,
   "id": "652a0ecc",
   "metadata": {},
   "outputs": [
    {
     "name": "stdout",
     "output_type": "stream",
     "text": [
      "0                           Drama\n",
      "1                    Crime, Drama\n",
      "2            Action, Crime, Drama\n",
      "3       Biography, Drama, History\n",
      "4                    Crime, Drama\n",
      "5        Action, Adventure, Drama\n",
      "6                    Crime, Drama\n",
      "7    Animation, Action, Adventure\n",
      "8                    Crime, Drama\n",
      "9       Action, Adventure, Sci-Fi\n",
      "Name: genre, dtype: object\n"
     ]
    }
   ],
   "source": [
    "print(clean_movies['genre'].head(10))"
   ]
  }
 ],
 "metadata": {
  "kernelspec": {
   "display_name": "venv",
   "language": "python",
   "name": "python3"
  },
  "language_info": {
   "codemirror_mode": {
    "name": "ipython",
    "version": 3
   },
   "file_extension": ".py",
   "mimetype": "text/x-python",
   "name": "python",
   "nbconvert_exporter": "python",
   "pygments_lexer": "ipython3",
   "version": "3.11.4"
  }
 },
 "nbformat": 4,
 "nbformat_minor": 5
}
